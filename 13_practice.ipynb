{
 "cells": [
  {
   "cell_type": "code",
   "execution_count": 79,
   "id": "933793ee",
   "metadata": {},
   "outputs": [
    {
     "name": "stdout",
     "output_type": "stream",
     "text": [
      "<class 'pandas.core.frame.DataFrame'>\n",
      "RangeIndex: 48842 entries, 0 to 48841\n",
      "Data columns (total 15 columns):\n",
      " #   Column          Non-Null Count  Dtype \n",
      "---  ------          --------------  ----- \n",
      " 0   age             48842 non-null  int64 \n",
      " 1   workclass       48842 non-null  object\n",
      " 2   fnlwgt          48842 non-null  int64 \n",
      " 3   education       48842 non-null  object\n",
      " 4   education_num   48842 non-null  int64 \n",
      " 5   marital_status  48842 non-null  object\n",
      " 6   occupation      48842 non-null  object\n",
      " 7   relationship    48842 non-null  object\n",
      " 8   race            48842 non-null  object\n",
      " 9   sex             48842 non-null  object\n",
      " 10  capital_gain    48842 non-null  int64 \n",
      " 11  capital_loss    48842 non-null  int64 \n",
      " 12  hours_per_week  48842 non-null  int64 \n",
      " 13  native_country  48842 non-null  object\n",
      " 14  income          48842 non-null  object\n",
      "dtypes: int64(6), object(9)\n",
      "memory usage: 5.6+ MB\n"
     ]
    }
   ],
   "source": [
    "import pandas as pd\n",
    "df = pd.read_csv('adult.csv')\n",
    "df.info()"
   ]
  },
  {
   "cell_type": "code",
   "execution_count": 80,
   "id": "d21ec465",
   "metadata": {},
   "outputs": [
    {
     "data": {
      "text/html": [
       "<div>\n",
       "<style scoped>\n",
       "    .dataframe tbody tr th:only-of-type {\n",
       "        vertical-align: middle;\n",
       "    }\n",
       "\n",
       "    .dataframe tbody tr th {\n",
       "        vertical-align: top;\n",
       "    }\n",
       "\n",
       "    .dataframe thead th {\n",
       "        text-align: right;\n",
       "    }\n",
       "</style>\n",
       "<table border=\"1\" class=\"dataframe\">\n",
       "  <thead>\n",
       "    <tr style=\"text-align: right;\">\n",
       "      <th></th>\n",
       "      <th>age</th>\n",
       "      <th>workclass</th>\n",
       "      <th>fnlwgt</th>\n",
       "      <th>education</th>\n",
       "      <th>education_num</th>\n",
       "      <th>marital_status</th>\n",
       "      <th>occupation</th>\n",
       "      <th>relationship</th>\n",
       "      <th>race</th>\n",
       "      <th>sex</th>\n",
       "      <th>capital_gain</th>\n",
       "      <th>capital_loss</th>\n",
       "      <th>hours_per_week</th>\n",
       "      <th>native_country</th>\n",
       "      <th>income</th>\n",
       "    </tr>\n",
       "  </thead>\n",
       "  <tbody>\n",
       "    <tr>\n",
       "      <th>0</th>\n",
       "      <td>25</td>\n",
       "      <td>Private</td>\n",
       "      <td>226802</td>\n",
       "      <td>11th</td>\n",
       "      <td>7</td>\n",
       "      <td>Never-married</td>\n",
       "      <td>Machine-op-inspct</td>\n",
       "      <td>Own-child</td>\n",
       "      <td>Black</td>\n",
       "      <td>Male</td>\n",
       "      <td>0</td>\n",
       "      <td>0</td>\n",
       "      <td>40</td>\n",
       "      <td>United-States</td>\n",
       "      <td>&lt;=50K</td>\n",
       "    </tr>\n",
       "    <tr>\n",
       "      <th>1</th>\n",
       "      <td>38</td>\n",
       "      <td>Private</td>\n",
       "      <td>89814</td>\n",
       "      <td>HS-grad</td>\n",
       "      <td>9</td>\n",
       "      <td>Married-civ-spouse</td>\n",
       "      <td>Farming-fishing</td>\n",
       "      <td>Husband</td>\n",
       "      <td>White</td>\n",
       "      <td>Male</td>\n",
       "      <td>0</td>\n",
       "      <td>0</td>\n",
       "      <td>50</td>\n",
       "      <td>United-States</td>\n",
       "      <td>&lt;=50K</td>\n",
       "    </tr>\n",
       "    <tr>\n",
       "      <th>2</th>\n",
       "      <td>28</td>\n",
       "      <td>Local-gov</td>\n",
       "      <td>336951</td>\n",
       "      <td>Assoc-acdm</td>\n",
       "      <td>12</td>\n",
       "      <td>Married-civ-spouse</td>\n",
       "      <td>Protective-serv</td>\n",
       "      <td>Husband</td>\n",
       "      <td>White</td>\n",
       "      <td>Male</td>\n",
       "      <td>0</td>\n",
       "      <td>0</td>\n",
       "      <td>40</td>\n",
       "      <td>United-States</td>\n",
       "      <td>&gt;50K</td>\n",
       "    </tr>\n",
       "    <tr>\n",
       "      <th>3</th>\n",
       "      <td>44</td>\n",
       "      <td>Private</td>\n",
       "      <td>160323</td>\n",
       "      <td>Some-college</td>\n",
       "      <td>10</td>\n",
       "      <td>Married-civ-spouse</td>\n",
       "      <td>Machine-op-inspct</td>\n",
       "      <td>Husband</td>\n",
       "      <td>Black</td>\n",
       "      <td>Male</td>\n",
       "      <td>7688</td>\n",
       "      <td>0</td>\n",
       "      <td>40</td>\n",
       "      <td>United-States</td>\n",
       "      <td>&gt;50K</td>\n",
       "    </tr>\n",
       "    <tr>\n",
       "      <th>4</th>\n",
       "      <td>18</td>\n",
       "      <td>?</td>\n",
       "      <td>103497</td>\n",
       "      <td>Some-college</td>\n",
       "      <td>10</td>\n",
       "      <td>Never-married</td>\n",
       "      <td>?</td>\n",
       "      <td>Own-child</td>\n",
       "      <td>White</td>\n",
       "      <td>Female</td>\n",
       "      <td>0</td>\n",
       "      <td>0</td>\n",
       "      <td>30</td>\n",
       "      <td>United-States</td>\n",
       "      <td>&lt;=50K</td>\n",
       "    </tr>\n",
       "  </tbody>\n",
       "</table>\n",
       "</div>"
      ],
      "text/plain": [
       "   age  workclass  fnlwgt     education  education_num      marital_status  \\\n",
       "0   25    Private  226802          11th              7       Never-married   \n",
       "1   38    Private   89814       HS-grad              9  Married-civ-spouse   \n",
       "2   28  Local-gov  336951    Assoc-acdm             12  Married-civ-spouse   \n",
       "3   44    Private  160323  Some-college             10  Married-civ-spouse   \n",
       "4   18          ?  103497  Some-college             10       Never-married   \n",
       "\n",
       "          occupation relationship   race     sex  capital_gain  capital_loss  \\\n",
       "0  Machine-op-inspct    Own-child  Black    Male             0             0   \n",
       "1    Farming-fishing      Husband  White    Male             0             0   \n",
       "2    Protective-serv      Husband  White    Male             0             0   \n",
       "3  Machine-op-inspct      Husband  Black    Male          7688             0   \n",
       "4                  ?    Own-child  White  Female             0             0   \n",
       "\n",
       "   hours_per_week native_country income  \n",
       "0              40  United-States  <=50K  \n",
       "1              50  United-States  <=50K  \n",
       "2              40  United-States   >50K  \n",
       "3              40  United-States   >50K  \n",
       "4              30  United-States  <=50K  "
      ]
     },
     "execution_count": 80,
     "metadata": {},
     "output_type": "execute_result"
    }
   ],
   "source": [
    "df.head()"
   ]
  },
  {
   "cell_type": "code",
   "execution_count": 81,
   "id": "ca3cd23c",
   "metadata": {},
   "outputs": [
    {
     "data": {
      "text/plain": [
       "income\n",
       "<=50K    0.760718\n",
       ">50K     0.239282\n",
       "Name: proportion, dtype: float64"
      ]
     },
     "execution_count": 81,
     "metadata": {},
     "output_type": "execute_result"
    }
   ],
   "source": [
    "df['income'].value_counts(normalize= True)"
   ]
  },
  {
   "cell_type": "code",
   "execution_count": 82,
   "id": "ed378bd8",
   "metadata": {},
   "outputs": [
    {
     "data": {
      "text/plain": [
       "income\n",
       "low     0.760718\n",
       "high    0.239282\n",
       "Name: proportion, dtype: float64"
      ]
     },
     "execution_count": 82,
     "metadata": {},
     "output_type": "execute_result"
    }
   ],
   "source": [
    "import numpy as np\n",
    "df['income'] = np.where(df['income'] == '>50K', 'high', 'low')\n",
    "df['income'].value_counts(normalize= True)"
   ]
  },
  {
   "cell_type": "code",
   "execution_count": 83,
   "id": "8fb9459e",
   "metadata": {},
   "outputs": [],
   "source": [
    "df = df.drop(columns= 'fnlwgt')"
   ]
  },
  {
   "cell_type": "code",
   "execution_count": 84,
   "id": "eda23679",
   "metadata": {},
   "outputs": [
    {
     "name": "stdout",
     "output_type": "stream",
     "text": [
      "<class 'pandas.core.frame.DataFrame'>\n",
      "RangeIndex: 48842 entries, 0 to 48841\n",
      "Data columns (total 1 columns):\n",
      " #   Column  Non-Null Count  Dtype \n",
      "---  ------  --------------  ----- \n",
      " 0   sex     48842 non-null  object\n",
      "dtypes: object(1)\n",
      "memory usage: 381.7+ KB\n"
     ]
    }
   ],
   "source": [
    "df_tmp = df[['sex']]\n",
    "df_tmp.info()"
   ]
  },
  {
   "cell_type": "code",
   "execution_count": 85,
   "id": "db40a9b0",
   "metadata": {},
   "outputs": [
    {
     "data": {
      "text/plain": [
       "sex\n",
       "Male      32650\n",
       "Female    16192\n",
       "Name: count, dtype: int64"
      ]
     },
     "execution_count": 85,
     "metadata": {},
     "output_type": "execute_result"
    }
   ],
   "source": [
    "df_tmp['sex'].value_counts()"
   ]
  },
  {
   "cell_type": "code",
   "execution_count": 86,
   "id": "e093c146",
   "metadata": {},
   "outputs": [
    {
     "name": "stdout",
     "output_type": "stream",
     "text": [
      "<class 'pandas.core.frame.DataFrame'>\n",
      "RangeIndex: 48842 entries, 0 to 48841\n",
      "Data columns (total 2 columns):\n",
      " #   Column      Non-Null Count  Dtype\n",
      "---  ------      --------------  -----\n",
      " 0   sex_Female  48842 non-null  bool \n",
      " 1   sex_Male    48842 non-null  bool \n",
      "dtypes: bool(2)\n",
      "memory usage: 95.5 KB\n"
     ]
    }
   ],
   "source": [
    "df_tmp = pd.get_dummies(df_tmp)\n",
    "df_tmp.info()"
   ]
  },
  {
   "cell_type": "code",
   "execution_count": 87,
   "id": "6144a43b",
   "metadata": {},
   "outputs": [
    {
     "data": {
      "text/html": [
       "<div>\n",
       "<style scoped>\n",
       "    .dataframe tbody tr th:only-of-type {\n",
       "        vertical-align: middle;\n",
       "    }\n",
       "\n",
       "    .dataframe tbody tr th {\n",
       "        vertical-align: top;\n",
       "    }\n",
       "\n",
       "    .dataframe thead th {\n",
       "        text-align: right;\n",
       "    }\n",
       "</style>\n",
       "<table border=\"1\" class=\"dataframe\">\n",
       "  <thead>\n",
       "    <tr style=\"text-align: right;\">\n",
       "      <th></th>\n",
       "      <th>sex_Female</th>\n",
       "      <th>sex_Male</th>\n",
       "    </tr>\n",
       "  </thead>\n",
       "  <tbody>\n",
       "    <tr>\n",
       "      <th>0</th>\n",
       "      <td>False</td>\n",
       "      <td>True</td>\n",
       "    </tr>\n",
       "    <tr>\n",
       "      <th>1</th>\n",
       "      <td>False</td>\n",
       "      <td>True</td>\n",
       "    </tr>\n",
       "    <tr>\n",
       "      <th>2</th>\n",
       "      <td>False</td>\n",
       "      <td>True</td>\n",
       "    </tr>\n",
       "    <tr>\n",
       "      <th>3</th>\n",
       "      <td>False</td>\n",
       "      <td>True</td>\n",
       "    </tr>\n",
       "    <tr>\n",
       "      <th>4</th>\n",
       "      <td>True</td>\n",
       "      <td>False</td>\n",
       "    </tr>\n",
       "  </tbody>\n",
       "</table>\n",
       "</div>"
      ],
      "text/plain": [
       "   sex_Female  sex_Male\n",
       "0       False      True\n",
       "1       False      True\n",
       "2       False      True\n",
       "3       False      True\n",
       "4        True     False"
      ]
     },
     "execution_count": 87,
     "metadata": {},
     "output_type": "execute_result"
    }
   ],
   "source": [
    "df_tmp.head()"
   ]
  },
  {
   "cell_type": "code",
   "execution_count": 88,
   "id": "0200a235",
   "metadata": {},
   "outputs": [
    {
     "name": "stdout",
     "output_type": "stream",
     "text": [
      "<class 'pandas.core.frame.DataFrame'>\n",
      "RangeIndex: 48842 entries, 0 to 48841\n",
      "Columns: 108 entries, age to income\n",
      "dtypes: bool(102), int64(5), object(1)\n",
      "memory usage: 7.0+ MB\n"
     ]
    }
   ],
   "source": [
    "target = df['income']           # income 추출\n",
    "\n",
    "df = df.drop(columns= 'income') # income 제거\n",
    "df = pd.get_dummies(df)         # 문자 타입 변수 원핫 인코딩\n",
    "\n",
    "df['income'] = target           # df에 target 삽입\n",
    "df.info()\n"
   ]
  },
  {
   "cell_type": "code",
   "execution_count": 89,
   "id": "a9087611",
   "metadata": {},
   "outputs": [
    {
     "name": "stdout",
     "output_type": "stream",
     "text": [
      "<class 'pandas.core.frame.DataFrame'>\n",
      "RangeIndex: 48842 entries, 0 to 48841\n",
      "Data columns (total 108 columns):\n",
      " #    Column                                     Non-Null Count  Dtype \n",
      "---   ------                                     --------------  ----- \n",
      " 0    age                                        48842 non-null  int64 \n",
      " 1    education_num                              48842 non-null  int64 \n",
      " 2    capital_gain                               48842 non-null  int64 \n",
      " 3    capital_loss                               48842 non-null  int64 \n",
      " 4    hours_per_week                             48842 non-null  int64 \n",
      " 5    workclass_?                                48842 non-null  bool  \n",
      " 6    workclass_Federal-gov                      48842 non-null  bool  \n",
      " 7    workclass_Local-gov                        48842 non-null  bool  \n",
      " 8    workclass_Never-worked                     48842 non-null  bool  \n",
      " 9    workclass_Private                          48842 non-null  bool  \n",
      " 10   workclass_Self-emp-inc                     48842 non-null  bool  \n",
      " 11   workclass_Self-emp-not-inc                 48842 non-null  bool  \n",
      " 12   workclass_State-gov                        48842 non-null  bool  \n",
      " 13   workclass_Without-pay                      48842 non-null  bool  \n",
      " 14   education_10th                             48842 non-null  bool  \n",
      " 15   education_11th                             48842 non-null  bool  \n",
      " 16   education_12th                             48842 non-null  bool  \n",
      " 17   education_1st-4th                          48842 non-null  bool  \n",
      " 18   education_5th-6th                          48842 non-null  bool  \n",
      " 19   education_7th-8th                          48842 non-null  bool  \n",
      " 20   education_9th                              48842 non-null  bool  \n",
      " 21   education_Assoc-acdm                       48842 non-null  bool  \n",
      " 22   education_Assoc-voc                        48842 non-null  bool  \n",
      " 23   education_Bachelors                        48842 non-null  bool  \n",
      " 24   education_Doctorate                        48842 non-null  bool  \n",
      " 25   education_HS-grad                          48842 non-null  bool  \n",
      " 26   education_Masters                          48842 non-null  bool  \n",
      " 27   education_Preschool                        48842 non-null  bool  \n",
      " 28   education_Prof-school                      48842 non-null  bool  \n",
      " 29   education_Some-college                     48842 non-null  bool  \n",
      " 30   marital_status_Divorced                    48842 non-null  bool  \n",
      " 31   marital_status_Married-AF-spouse           48842 non-null  bool  \n",
      " 32   marital_status_Married-civ-spouse          48842 non-null  bool  \n",
      " 33   marital_status_Married-spouse-absent       48842 non-null  bool  \n",
      " 34   marital_status_Never-married               48842 non-null  bool  \n",
      " 35   marital_status_Separated                   48842 non-null  bool  \n",
      " 36   marital_status_Widowed                     48842 non-null  bool  \n",
      " 37   occupation_?                               48842 non-null  bool  \n",
      " 38   occupation_Adm-clerical                    48842 non-null  bool  \n",
      " 39   occupation_Armed-Forces                    48842 non-null  bool  \n",
      " 40   occupation_Craft-repair                    48842 non-null  bool  \n",
      " 41   occupation_Exec-managerial                 48842 non-null  bool  \n",
      " 42   occupation_Farming-fishing                 48842 non-null  bool  \n",
      " 43   occupation_Handlers-cleaners               48842 non-null  bool  \n",
      " 44   occupation_Machine-op-inspct               48842 non-null  bool  \n",
      " 45   occupation_Other-service                   48842 non-null  bool  \n",
      " 46   occupation_Priv-house-serv                 48842 non-null  bool  \n",
      " 47   occupation_Prof-specialty                  48842 non-null  bool  \n",
      " 48   occupation_Protective-serv                 48842 non-null  bool  \n",
      " 49   occupation_Sales                           48842 non-null  bool  \n",
      " 50   occupation_Tech-support                    48842 non-null  bool  \n",
      " 51   occupation_Transport-moving                48842 non-null  bool  \n",
      " 52   relationship_Husband                       48842 non-null  bool  \n",
      " 53   relationship_Not-in-family                 48842 non-null  bool  \n",
      " 54   relationship_Other-relative                48842 non-null  bool  \n",
      " 55   relationship_Own-child                     48842 non-null  bool  \n",
      " 56   relationship_Unmarried                     48842 non-null  bool  \n",
      " 57   relationship_Wife                          48842 non-null  bool  \n",
      " 58   race_Amer-Indian-Eskimo                    48842 non-null  bool  \n",
      " 59   race_Asian-Pac-Islander                    48842 non-null  bool  \n",
      " 60   race_Black                                 48842 non-null  bool  \n",
      " 61   race_Other                                 48842 non-null  bool  \n",
      " 62   race_White                                 48842 non-null  bool  \n",
      " 63   sex_Female                                 48842 non-null  bool  \n",
      " 64   sex_Male                                   48842 non-null  bool  \n",
      " 65   native_country_?                           48842 non-null  bool  \n",
      " 66   native_country_Cambodia                    48842 non-null  bool  \n",
      " 67   native_country_Canada                      48842 non-null  bool  \n",
      " 68   native_country_China                       48842 non-null  bool  \n",
      " 69   native_country_Columbia                    48842 non-null  bool  \n",
      " 70   native_country_Cuba                        48842 non-null  bool  \n",
      " 71   native_country_Dominican-Republic          48842 non-null  bool  \n",
      " 72   native_country_Ecuador                     48842 non-null  bool  \n",
      " 73   native_country_El-Salvador                 48842 non-null  bool  \n",
      " 74   native_country_England                     48842 non-null  bool  \n",
      " 75   native_country_France                      48842 non-null  bool  \n",
      " 76   native_country_Germany                     48842 non-null  bool  \n",
      " 77   native_country_Greece                      48842 non-null  bool  \n",
      " 78   native_country_Guatemala                   48842 non-null  bool  \n",
      " 79   native_country_Haiti                       48842 non-null  bool  \n",
      " 80   native_country_Holand-Netherlands          48842 non-null  bool  \n",
      " 81   native_country_Honduras                    48842 non-null  bool  \n",
      " 82   native_country_Hong                        48842 non-null  bool  \n",
      " 83   native_country_Hungary                     48842 non-null  bool  \n",
      " 84   native_country_India                       48842 non-null  bool  \n",
      " 85   native_country_Iran                        48842 non-null  bool  \n",
      " 86   native_country_Ireland                     48842 non-null  bool  \n",
      " 87   native_country_Italy                       48842 non-null  bool  \n",
      " 88   native_country_Jamaica                     48842 non-null  bool  \n",
      " 89   native_country_Japan                       48842 non-null  bool  \n",
      " 90   native_country_Laos                        48842 non-null  bool  \n",
      " 91   native_country_Mexico                      48842 non-null  bool  \n",
      " 92   native_country_Nicaragua                   48842 non-null  bool  \n",
      " 93   native_country_Outlying-US(Guam-USVI-etc)  48842 non-null  bool  \n",
      " 94   native_country_Peru                        48842 non-null  bool  \n",
      " 95   native_country_Philippines                 48842 non-null  bool  \n",
      " 96   native_country_Poland                      48842 non-null  bool  \n",
      " 97   native_country_Portugal                    48842 non-null  bool  \n",
      " 98   native_country_Puerto-Rico                 48842 non-null  bool  \n",
      " 99   native_country_Scotland                    48842 non-null  bool  \n",
      " 100  native_country_South                       48842 non-null  bool  \n",
      " 101  native_country_Taiwan                      48842 non-null  bool  \n",
      " 102  native_country_Thailand                    48842 non-null  bool  \n",
      " 103  native_country_Trinadad&Tobago             48842 non-null  bool  \n",
      " 104  native_country_United-States               48842 non-null  bool  \n",
      " 105  native_country_Vietnam                     48842 non-null  bool  \n",
      " 106  native_country_Yugoslavia                  48842 non-null  bool  \n",
      " 107  income                                     48842 non-null  object\n",
      "dtypes: bool(102), int64(5), object(1)\n",
      "memory usage: 7.0+ MB\n"
     ]
    }
   ],
   "source": [
    "import numpy as np\n",
    "df.info(max_cols= np.inf)"
   ]
  },
  {
   "cell_type": "code",
   "execution_count": 90,
   "id": "11f28fb8",
   "metadata": {},
   "outputs": [],
   "source": [
    "from sklearn.model_selection import train_test_split\n",
    "df_train, df_test = train_test_split(df,\n",
    "                                     test_size= 0.3,         # 테스트 세트 비율\n",
    "                                     stratify= df['income'], # 타겟 변수 비율 유지\n",
    "                                     random_state= 1234)     # 난수 고정"
   ]
  },
  {
   "cell_type": "code",
   "execution_count": 91,
   "id": "e07d8fad",
   "metadata": {},
   "outputs": [
    {
     "data": {
      "text/plain": [
       "(34189, 108)"
      ]
     },
     "execution_count": 91,
     "metadata": {},
     "output_type": "execute_result"
    }
   ],
   "source": [
    "df_train.shape"
   ]
  },
  {
   "cell_type": "code",
   "execution_count": 92,
   "id": "c8b892eb",
   "metadata": {},
   "outputs": [
    {
     "data": {
      "text/plain": [
       "(14653, 108)"
      ]
     },
     "execution_count": 92,
     "metadata": {},
     "output_type": "execute_result"
    }
   ],
   "source": [
    "df_test.shape"
   ]
  },
  {
   "cell_type": "code",
   "execution_count": 93,
   "id": "ca2cb94b",
   "metadata": {},
   "outputs": [
    {
     "data": {
      "text/plain": [
       "income\n",
       "low     0.760713\n",
       "high    0.239287\n",
       "Name: proportion, dtype: float64"
      ]
     },
     "execution_count": 93,
     "metadata": {},
     "output_type": "execute_result"
    }
   ],
   "source": [
    "df_train['income'].value_counts(normalize= True)"
   ]
  },
  {
   "cell_type": "code",
   "execution_count": 94,
   "id": "33ca7efa",
   "metadata": {},
   "outputs": [
    {
     "data": {
      "text/plain": [
       "income\n",
       "low     0.760732\n",
       "high    0.239268\n",
       "Name: proportion, dtype: float64"
      ]
     },
     "execution_count": 94,
     "metadata": {},
     "output_type": "execute_result"
    }
   ],
   "source": [
    "df_test['income'].value_counts(normalize= True)"
   ]
  },
  {
   "cell_type": "code",
   "execution_count": 95,
   "id": "a1f74dc0",
   "metadata": {},
   "outputs": [],
   "source": [
    "from sklearn import tree\n",
    "clf = tree.DecisionTreeClassifier(random_state= 1234, # 난수 고정\n",
    "                                  max_depth= 3)       # 나무 깊이"
   ]
  },
  {
   "cell_type": "code",
   "execution_count": 96,
   "id": "774cdc3b",
   "metadata": {},
   "outputs": [],
   "source": [
    "train_x = df_train.drop(columns= 'income') # 예측 변수 추출\n",
    "train_y = df_train['income'] # 타겟 변수 추출\n",
    "\n",
    "model = clf.fit(X = train_x, y = train_y) # 모델 만들기"
   ]
  },
  {
   "cell_type": "code",
   "execution_count": 97,
   "id": "d8e23adb",
   "metadata": {},
   "outputs": [
    {
     "data": {
      "image/png": "[encoded data removed]",
      "text/plain": [
       "<Figure size 1200x800 with 1 Axes>"
      ]
     },
     "metadata": {},
     "output_type": "display_data"
    }
   ],
   "source": [
    "import matplotlib.pyplot as plt\n",
    "plt.rcParams.update({'figure.dpi'       : '100',    # 해상도 설정\n",
    "                     'figure.figsize'   : [12, 8]}) # 그래프 크기 설정\n",
    "\n",
    "tree.plot_tree(model);\n",
    "plt.show()"
   ]
  },
  {
   "cell_type": "code",
   "execution_count": 98,
   "id": "c0edfba9",
   "metadata": {},
   "outputs": [
    {
     "data": {
      "image/png": "[encoded data removed]",
      "text/plain": [
       "<Figure size 1200x800 with 1 Axes>"
      ]
     },
     "metadata": {},
     "output_type": "display_data"
    }
   ],
   "source": [
    "tree.plot_tree(model,\n",
    "               feature_names= list(train_x.columns),    # 예측 변수 명\n",
    "               class_names= ['high', 'low'],            # 타겟 클래스 알파벳 순\n",
    "               proportion= True,                        # 비율 표기\n",
    "               filled= True,                            # 색칠\n",
    "               rounded= True,                           # 둥근 테두리\n",
    "               impurity= False,                         # 불순도 표시\n",
    "               label= 'root',                           # label 표시 위치\n",
    "               fontsize= 10);                           # 글자 크기\n",
    "plt.show()"
   ]
  },
  {
   "cell_type": "code",
   "execution_count": 99,
   "id": "b585911a",
   "metadata": {},
   "outputs": [],
   "source": [
    "test_x = df_test.drop(columns= 'income') # 예측 변수 추출\n",
    "test_y = df_test['income']               # 타겟 변수 추출"
   ]
  },
  {
   "cell_type": "code",
   "execution_count": 100,
   "id": "4b543f5b",
   "metadata": {},
   "outputs": [
    {
     "data": {
      "text/html": [
       "<div>\n",
       "<style scoped>\n",
       "    .dataframe tbody tr th:only-of-type {\n",
       "        vertical-align: middle;\n",
       "    }\n",
       "\n",
       "    .dataframe tbody tr th {\n",
       "        vertical-align: top;\n",
       "    }\n",
       "\n",
       "    .dataframe thead th {\n",
       "        text-align: right;\n",
       "    }\n",
       "</style>\n",
       "<table border=\"1\" class=\"dataframe\">\n",
       "  <thead>\n",
       "    <tr style=\"text-align: right;\">\n",
       "      <th></th>\n",
       "      <th>age</th>\n",
       "      <th>education_num</th>\n",
       "      <th>capital_gain</th>\n",
       "      <th>capital_loss</th>\n",
       "      <th>hours_per_week</th>\n",
       "      <th>workclass_?</th>\n",
       "      <th>workclass_Federal-gov</th>\n",
       "      <th>workclass_Local-gov</th>\n",
       "      <th>workclass_Never-worked</th>\n",
       "      <th>workclass_Private</th>\n",
       "      <th>...</th>\n",
       "      <th>native_country_Scotland</th>\n",
       "      <th>native_country_South</th>\n",
       "      <th>native_country_Taiwan</th>\n",
       "      <th>native_country_Thailand</th>\n",
       "      <th>native_country_Trinadad&amp;Tobago</th>\n",
       "      <th>native_country_United-States</th>\n",
       "      <th>native_country_Vietnam</th>\n",
       "      <th>native_country_Yugoslavia</th>\n",
       "      <th>income</th>\n",
       "      <th>pred</th>\n",
       "    </tr>\n",
       "  </thead>\n",
       "  <tbody>\n",
       "    <tr>\n",
       "      <th>11712</th>\n",
       "      <td>58</td>\n",
       "      <td>10</td>\n",
       "      <td>0</td>\n",
       "      <td>0</td>\n",
       "      <td>60</td>\n",
       "      <td>False</td>\n",
       "      <td>False</td>\n",
       "      <td>False</td>\n",
       "      <td>False</td>\n",
       "      <td>False</td>\n",
       "      <td>...</td>\n",
       "      <td>False</td>\n",
       "      <td>False</td>\n",
       "      <td>False</td>\n",
       "      <td>False</td>\n",
       "      <td>False</td>\n",
       "      <td>True</td>\n",
       "      <td>False</td>\n",
       "      <td>False</td>\n",
       "      <td>low</td>\n",
       "      <td>low</td>\n",
       "    </tr>\n",
       "    <tr>\n",
       "      <th>24768</th>\n",
       "      <td>39</td>\n",
       "      <td>10</td>\n",
       "      <td>0</td>\n",
       "      <td>0</td>\n",
       "      <td>40</td>\n",
       "      <td>False</td>\n",
       "      <td>False</td>\n",
       "      <td>False</td>\n",
       "      <td>False</td>\n",
       "      <td>True</td>\n",
       "      <td>...</td>\n",
       "      <td>False</td>\n",
       "      <td>False</td>\n",
       "      <td>False</td>\n",
       "      <td>False</td>\n",
       "      <td>False</td>\n",
       "      <td>False</td>\n",
       "      <td>False</td>\n",
       "      <td>False</td>\n",
       "      <td>low</td>\n",
       "      <td>low</td>\n",
       "    </tr>\n",
       "    <tr>\n",
       "      <th>26758</th>\n",
       "      <td>31</td>\n",
       "      <td>4</td>\n",
       "      <td>0</td>\n",
       "      <td>0</td>\n",
       "      <td>20</td>\n",
       "      <td>False</td>\n",
       "      <td>False</td>\n",
       "      <td>False</td>\n",
       "      <td>False</td>\n",
       "      <td>True</td>\n",
       "      <td>...</td>\n",
       "      <td>False</td>\n",
       "      <td>False</td>\n",
       "      <td>False</td>\n",
       "      <td>False</td>\n",
       "      <td>False</td>\n",
       "      <td>True</td>\n",
       "      <td>False</td>\n",
       "      <td>False</td>\n",
       "      <td>low</td>\n",
       "      <td>low</td>\n",
       "    </tr>\n",
       "    <tr>\n",
       "      <th>14295</th>\n",
       "      <td>23</td>\n",
       "      <td>9</td>\n",
       "      <td>0</td>\n",
       "      <td>0</td>\n",
       "      <td>40</td>\n",
       "      <td>False</td>\n",
       "      <td>False</td>\n",
       "      <td>False</td>\n",
       "      <td>False</td>\n",
       "      <td>True</td>\n",
       "      <td>...</td>\n",
       "      <td>False</td>\n",
       "      <td>False</td>\n",
       "      <td>False</td>\n",
       "      <td>False</td>\n",
       "      <td>False</td>\n",
       "      <td>True</td>\n",
       "      <td>False</td>\n",
       "      <td>False</td>\n",
       "      <td>low</td>\n",
       "      <td>low</td>\n",
       "    </tr>\n",
       "    <tr>\n",
       "      <th>3683</th>\n",
       "      <td>24</td>\n",
       "      <td>9</td>\n",
       "      <td>0</td>\n",
       "      <td>0</td>\n",
       "      <td>40</td>\n",
       "      <td>False</td>\n",
       "      <td>False</td>\n",
       "      <td>False</td>\n",
       "      <td>False</td>\n",
       "      <td>True</td>\n",
       "      <td>...</td>\n",
       "      <td>False</td>\n",
       "      <td>False</td>\n",
       "      <td>False</td>\n",
       "      <td>False</td>\n",
       "      <td>False</td>\n",
       "      <td>True</td>\n",
       "      <td>False</td>\n",
       "      <td>False</td>\n",
       "      <td>low</td>\n",
       "      <td>low</td>\n",
       "    </tr>\n",
       "    <tr>\n",
       "      <th>...</th>\n",
       "      <td>...</td>\n",
       "      <td>...</td>\n",
       "      <td>...</td>\n",
       "      <td>...</td>\n",
       "      <td>...</td>\n",
       "      <td>...</td>\n",
       "      <td>...</td>\n",
       "      <td>...</td>\n",
       "      <td>...</td>\n",
       "      <td>...</td>\n",
       "      <td>...</td>\n",
       "      <td>...</td>\n",
       "      <td>...</td>\n",
       "      <td>...</td>\n",
       "      <td>...</td>\n",
       "      <td>...</td>\n",
       "      <td>...</td>\n",
       "      <td>...</td>\n",
       "      <td>...</td>\n",
       "      <td>...</td>\n",
       "      <td>...</td>\n",
       "    </tr>\n",
       "    <tr>\n",
       "      <th>11985</th>\n",
       "      <td>24</td>\n",
       "      <td>13</td>\n",
       "      <td>0</td>\n",
       "      <td>0</td>\n",
       "      <td>30</td>\n",
       "      <td>False</td>\n",
       "      <td>False</td>\n",
       "      <td>False</td>\n",
       "      <td>False</td>\n",
       "      <td>True</td>\n",
       "      <td>...</td>\n",
       "      <td>False</td>\n",
       "      <td>False</td>\n",
       "      <td>False</td>\n",
       "      <td>False</td>\n",
       "      <td>False</td>\n",
       "      <td>True</td>\n",
       "      <td>False</td>\n",
       "      <td>False</td>\n",
       "      <td>low</td>\n",
       "      <td>low</td>\n",
       "    </tr>\n",
       "    <tr>\n",
       "      <th>48445</th>\n",
       "      <td>35</td>\n",
       "      <td>13</td>\n",
       "      <td>10520</td>\n",
       "      <td>0</td>\n",
       "      <td>45</td>\n",
       "      <td>False</td>\n",
       "      <td>False</td>\n",
       "      <td>False</td>\n",
       "      <td>False</td>\n",
       "      <td>True</td>\n",
       "      <td>...</td>\n",
       "      <td>False</td>\n",
       "      <td>False</td>\n",
       "      <td>False</td>\n",
       "      <td>False</td>\n",
       "      <td>False</td>\n",
       "      <td>True</td>\n",
       "      <td>False</td>\n",
       "      <td>False</td>\n",
       "      <td>high</td>\n",
       "      <td>high</td>\n",
       "    </tr>\n",
       "    <tr>\n",
       "      <th>19639</th>\n",
       "      <td>41</td>\n",
       "      <td>9</td>\n",
       "      <td>0</td>\n",
       "      <td>0</td>\n",
       "      <td>40</td>\n",
       "      <td>False</td>\n",
       "      <td>False</td>\n",
       "      <td>False</td>\n",
       "      <td>False</td>\n",
       "      <td>True</td>\n",
       "      <td>...</td>\n",
       "      <td>False</td>\n",
       "      <td>False</td>\n",
       "      <td>False</td>\n",
       "      <td>False</td>\n",
       "      <td>False</td>\n",
       "      <td>True</td>\n",
       "      <td>False</td>\n",
       "      <td>False</td>\n",
       "      <td>high</td>\n",
       "      <td>low</td>\n",
       "    </tr>\n",
       "    <tr>\n",
       "      <th>21606</th>\n",
       "      <td>29</td>\n",
       "      <td>4</td>\n",
       "      <td>0</td>\n",
       "      <td>0</td>\n",
       "      <td>30</td>\n",
       "      <td>False</td>\n",
       "      <td>False</td>\n",
       "      <td>False</td>\n",
       "      <td>False</td>\n",
       "      <td>True</td>\n",
       "      <td>...</td>\n",
       "      <td>False</td>\n",
       "      <td>False</td>\n",
       "      <td>False</td>\n",
       "      <td>False</td>\n",
       "      <td>False</td>\n",
       "      <td>False</td>\n",
       "      <td>False</td>\n",
       "      <td>False</td>\n",
       "      <td>low</td>\n",
       "      <td>low</td>\n",
       "    </tr>\n",
       "    <tr>\n",
       "      <th>3822</th>\n",
       "      <td>31</td>\n",
       "      <td>13</td>\n",
       "      <td>0</td>\n",
       "      <td>0</td>\n",
       "      <td>40</td>\n",
       "      <td>False</td>\n",
       "      <td>False</td>\n",
       "      <td>False</td>\n",
       "      <td>False</td>\n",
       "      <td>True</td>\n",
       "      <td>...</td>\n",
       "      <td>False</td>\n",
       "      <td>False</td>\n",
       "      <td>False</td>\n",
       "      <td>False</td>\n",
       "      <td>False</td>\n",
       "      <td>True</td>\n",
       "      <td>False</td>\n",
       "      <td>False</td>\n",
       "      <td>low</td>\n",
       "      <td>low</td>\n",
       "    </tr>\n",
       "  </tbody>\n",
       "</table>\n",
       "<p>14653 rows × 109 columns</p>\n",
       "</div>"
      ],
      "text/plain": [
       "       age  education_num  capital_gain  capital_loss  hours_per_week  \\\n",
       "11712   58             10             0             0              60   \n",
       "24768   39             10             0             0              40   \n",
       "26758   31              4             0             0              20   \n",
       "14295   23              9             0             0              40   \n",
       "3683    24              9             0             0              40   \n",
       "...    ...            ...           ...           ...             ...   \n",
       "11985   24             13             0             0              30   \n",
       "48445   35             13         10520             0              45   \n",
       "19639   41              9             0             0              40   \n",
       "21606   29              4             0             0              30   \n",
       "3822    31             13             0             0              40   \n",
       "\n",
       "       workclass_?  workclass_Federal-gov  workclass_Local-gov  \\\n",
       "11712        False                  False                False   \n",
       "24768        False                  False                False   \n",
       "26758        False                  False                False   \n",
       "14295        False                  False                False   \n",
       "3683         False                  False                False   \n",
       "...            ...                    ...                  ...   \n",
       "11985        False                  False                False   \n",
       "48445        False                  False                False   \n",
       "19639        False                  False                False   \n",
       "21606        False                  False                False   \n",
       "3822         False                  False                False   \n",
       "\n",
       "       workclass_Never-worked  workclass_Private  ...  \\\n",
       "11712                   False              False  ...   \n",
       "24768                   False               True  ...   \n",
       "26758                   False               True  ...   \n",
       "14295                   False               True  ...   \n",
       "3683                    False               True  ...   \n",
       "...                       ...                ...  ...   \n",
       "11985                   False               True  ...   \n",
       "48445                   False               True  ...   \n",
       "19639                   False               True  ...   \n",
       "21606                   False               True  ...   \n",
       "3822                    False               True  ...   \n",
       "\n",
       "       native_country_Scotland  native_country_South  native_country_Taiwan  \\\n",
       "11712                    False                 False                  False   \n",
       "24768                    False                 False                  False   \n",
       "26758                    False                 False                  False   \n",
       "14295                    False                 False                  False   \n",
       "3683                     False                 False                  False   \n",
       "...                        ...                   ...                    ...   \n",
       "11985                    False                 False                  False   \n",
       "48445                    False                 False                  False   \n",
       "19639                    False                 False                  False   \n",
       "21606                    False                 False                  False   \n",
       "3822                     False                 False                  False   \n",
       "\n",
       "       native_country_Thailand  native_country_Trinadad&Tobago  \\\n",
       "11712                    False                           False   \n",
       "24768                    False                           False   \n",
       "26758                    False                           False   \n",
       "14295                    False                           False   \n",
       "3683                     False                           False   \n",
       "...                        ...                             ...   \n",
       "11985                    False                           False   \n",
       "48445                    False                           False   \n",
       "19639                    False                           False   \n",
       "21606                    False                           False   \n",
       "3822                     False                           False   \n",
       "\n",
       "       native_country_United-States  native_country_Vietnam  \\\n",
       "11712                          True                   False   \n",
       "24768                         False                   False   \n",
       "26758                          True                   False   \n",
       "14295                          True                   False   \n",
       "3683                           True                   False   \n",
       "...                             ...                     ...   \n",
       "11985                          True                   False   \n",
       "48445                          True                   False   \n",
       "19639                          True                   False   \n",
       "21606                         False                   False   \n",
       "3822                           True                   False   \n",
       "\n",
       "       native_country_Yugoslavia  income  pred  \n",
       "11712                      False     low   low  \n",
       "24768                      False     low   low  \n",
       "26758                      False     low   low  \n",
       "14295                      False     low   low  \n",
       "3683                       False     low   low  \n",
       "...                          ...     ...   ...  \n",
       "11985                      False     low   low  \n",
       "48445                      False    high  high  \n",
       "19639                      False    high   low  \n",
       "21606                      False     low   low  \n",
       "3822                       False     low   low  \n",
       "\n",
       "[14653 rows x 109 columns]"
      ]
     },
     "execution_count": 100,
     "metadata": {},
     "output_type": "execute_result"
    }
   ],
   "source": [
    "# 예측값 구하기\n",
    "df_test['pred'] = model.predict(test_x)\n",
    "df_test"
   ]
  },
  {
   "cell_type": "code",
   "execution_count": 101,
   "id": "c9245e7a",
   "metadata": {},
   "outputs": [
    {
     "data": {
      "text/plain": [
       "array([[ 1801,  1705],\n",
       "       [  582, 10565]])"
      ]
     },
     "execution_count": 101,
     "metadata": {},
     "output_type": "execute_result"
    }
   ],
   "source": [
    "from sklearn.metrics import confusion_matrix\n",
    "conf_mat = confusion_matrix(y_true= df_test['income'],  # 실제값\n",
    "                            y_pred= df_test['pred'],    # 예측값\n",
    "                            labels= ['high', 'low'])    # 클래스 배치 순서\n",
    "conf_mat"
   ]
  },
  {
   "cell_type": "code",
   "execution_count": 102,
   "id": "a8aa3adc",
   "metadata": {},
   "outputs": [
    {
     "data": {
      "image/png": "[encoded data removed]",
      "text/plain": [
       "<Figure size 640x480 with 2 Axes>"
      ]
     },
     "metadata": {},
     "output_type": "display_data"
    }
   ],
   "source": [
    "plt.rcParams.update(plt.rcParamsDefault) # 그래프 설정 되돌리기\n",
    "\n",
    "from sklearn.metrics import ConfusionMatrixDisplay\n",
    "p = ConfusionMatrixDisplay(confusion_matrix= conf_mat,      # 컨퓨전 매트릭스\n",
    "                           display_labels= ('high', 'low')) # 타겟 변수 클래스 명\n",
    "\n",
    "p.plot(cmap = 'Blues')                                      # 컬러맵 적용해 출력\n",
    "plt.show()"
   ]
  },
  {
   "cell_type": "code",
   "execution_count": 103,
   "id": "230c88a7",
   "metadata": {},
   "outputs": [
    {
     "data": {
      "text/plain": [
       "0.8439227461953184"
      ]
     },
     "execution_count": 103,
     "metadata": {},
     "output_type": "execute_result"
    }
   ],
   "source": [
    "import sklearn.metrics as metrics\n",
    "metrics.accuracy_score(y_true= df_test['income'], # 실제값\n",
    "                       y_pred= df_test['pred'])   # 예측값"
   ]
  },
  {
   "cell_type": "code",
   "execution_count": 104,
   "id": "c7d18df5",
   "metadata": {},
   "outputs": [
    {
     "data": {
      "text/plain": [
       "0.7557700377675199"
      ]
     },
     "execution_count": 104,
     "metadata": {},
     "output_type": "execute_result"
    }
   ],
   "source": [
    "metrics.precision_score(y_true= df_test['income'], # 실제값\n",
    "                        y_pred= df_test['pred'],   # 예측값\n",
    "                        pos_label= 'high')         # 관심 클래스"
   ]
  },
  {
   "cell_type": "code",
   "execution_count": 105,
   "id": "0ab28813",
   "metadata": {},
   "outputs": [
    {
     "data": {
      "text/plain": [
       "0.5136908157444381"
      ]
     },
     "execution_count": 105,
     "metadata": {},
     "output_type": "execute_result"
    }
   ],
   "source": [
    "metrics.recall_score(y_true= df_test['income'], # 실제값\n",
    "                     y_pred= df_test['pred'],   # 예측값\n",
    "                     pos_label= 'high')         # 관심 클래스"
   ]
  },
  {
   "cell_type": "code",
   "execution_count": 106,
   "id": "016dd6bc",
   "metadata": {},
   "outputs": [
    {
     "data": {
      "text/plain": [
       "0.6116488368143997"
      ]
     },
     "execution_count": 106,
     "metadata": {},
     "output_type": "execute_result"
    }
   ],
   "source": [
    "metrics.f1_score(y_true= df_test['income'], # 실제값\n",
    "                 y_pred= df_test['pred'],   # 예측값\n",
    "                 pos_label= 'high')         # 관심 클래스"
   ]
  },
  {
   "cell_type": "code",
   "execution_count": null,
   "id": "9146c0f2",
   "metadata": {},
   "outputs": [],
   "source": []
  }
 ],
 "metadata": {
  "kernelspec": {
   "display_name": "Python 3",
   "language": "python",
   "name": "python3"
  },
  "language_info": {
   "codemirror_mode": {
    "name": "ipython",
    "version": 3
   },
   "file_extension": ".py",
   "mimetype": "text/x-python",
   "name": "python",
   "nbconvert_exporter": "python",
   "pygments_lexer": "ipython3",
   "version": "3.13.5"
  }
 },
 "nbformat": 4,
 "nbformat_minor": 5
}
